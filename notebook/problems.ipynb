{
    "cells": [
        {
            "cell_type": "markdown",
            "id": "ac622319",
            "metadata": {},
            "source": [
                "# Descriptive statistics problems"
            ]
        },
        {
            "cell_type": "markdown",
            "id": "5e0ab0d5",
            "metadata": {},
            "source": [
                "### Exercise 1\n",
                "\n",
                "Utilizaremos NumPy para obtener información para describir estadísticamente.\n",
                "\n",
                "- Generar un array de 100 elementos siguiendo una distribución normal.\n",
                "- Generar un array de 100 elementos siguiendo una distribución chi-cuadrado con 3 grados de libertad.\n",
                "- Calcular las principales métricas y medidas estadísticas que mejor describan los dos vectores."
            ]
        },
        {
            "cell_type": "code",
            "execution_count": 1,
            "id": "34720ab6",
            "metadata": {},
            "outputs": [
                {
                    "name": "stdout",
                    "output_type": "stream",
                    "text": [
                        "Métricas de la distribución normal:\n",
                        "Media: 0.02812700551335325\n",
                        "Mediana: -0.013989278308531482\n",
                        "Varianza: 0.8459169392014364\n",
                        "Desviación estándar: 0.9197374294881319\n",
                        "Máximo: 2.0387370979468495\n",
                        "Mínimo: -1.8527795324258731\n",
                        "\n",
                        "Métricas de la distribución chi-cuadrado:\n",
                        "Media: 3.2274526225522795\n",
                        "Mediana: 2.3612042477470387\n",
                        "Varianza: 7.854707376540711\n",
                        "Desviación estándar: 2.80262508668939\n",
                        "Máximo: 16.626384448785675\n",
                        "Mínimo: 0.1439777575057296\n"
                    ]
                }
            ],
            "source": [
                "import numpy as np\n",
                "\n",
                "# 1. Generar un array de 100 elementos siguiendo una distribución normal\n",
                "normal_array = np.random.normal(loc=0, scale=1, size=100)\n",
                "\n",
                "# 2. Generar un array de 100 elementos siguiendo una distribución chi-cuadrado con 3 grados de libertad\n",
                "chi_squared_array = np.random.chisquare(df=3, size=100)\n",
                "\n",
                "# 3. Calcular las métricas estadísticas para ambas distribuciones\n",
                "\n",
                "def calcular_metricas(arr):\n",
                "    media = np.mean(arr)\n",
                "    mediana = np.median(arr)\n",
                "    varianza = np.var(arr)\n",
                "    desviacion_estandar = np.std(arr)\n",
                "    maximo = np.max(arr)\n",
                "    minimo = np.min(arr)\n",
                "    \n",
                "    return {\n",
                "        'Media': media,\n",
                "        'Mediana': mediana,\n",
                "        'Varianza': varianza,\n",
                "        'Desviación estándar': desviacion_estandar,\n",
                "        'Máximo': maximo,\n",
                "        'Mínimo': minimo\n",
                "    }\n",
                "\n",
                "# Calcular métricas para la distribución normal\n",
                "metricas_normal = calcular_metricas(normal_array)\n",
                "print(\"Métricas de la distribución normal:\")\n",
                "for key, value in metricas_normal.items():\n",
                "    print(f\"{key}: {value}\")\n",
                "\n",
                "# Calcular métricas para la distribución chi-cuadrado\n",
                "metricas_chi2 = calcular_metricas(chi_squared_array)\n",
                "print(\"\\nMétricas de la distribución chi-cuadrado:\")\n",
                "for key, value in metricas_chi2.items():\n",
                "    print(f\"{key}: {value}\")\n"
            ]
        },
        {
            "cell_type": "markdown",
            "id": "46c70c3d",
            "metadata": {},
            "source": [
                "### Exercise 2\n",
                "\n",
                "Escriba un programa en Python para calcular la desviación estándar de los siguientes datos:\n",
                "\n",
                "```py\n",
                "data = [4, 2, 5, 8, 6]\n",
                "```"
            ]
        },
        {
            "cell_type": "code",
            "execution_count": 16,
            "id": "d590308e",
            "metadata": {},
            "outputs": [
                {
                    "name": "stdout",
                    "output_type": "stream",
                    "text": [
                        "la desviacion estandar es: 2.0\n"
                    ]
                }
            ],
            "source": [
                "data =[4,2,5,8,6]\n",
                "desviacion_estandar = np.std(data)\n",
                "print (f\"la desviacion estandar es: {desviacion_estandar}\")"
            ]
        }
    ],
    "metadata": {
        "kernelspec": {
            "display_name": "Python 3",
            "language": "python",
            "name": "python3"
        },
        "language_info": {
            "codemirror_mode": {
                "name": "ipython",
                "version": 3
            },
            "file_extension": ".py",
            "mimetype": "text/x-python",
            "name": "python",
            "nbconvert_exporter": "python",
            "pygments_lexer": "ipython3",
            "version": "3.11.4"
        }
    },
    "nbformat": 4,
    "nbformat_minor": 5
}
