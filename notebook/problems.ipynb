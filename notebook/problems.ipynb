{
    "cells": [
        {
            "cell_type": "markdown",
            "id": "ac622319",
            "metadata": {},
            "source": [
                "# Descriptive statistics problems"
            ]
        },
        {
            "cell_type": "markdown",
            "id": "5e0ab0d5",
            "metadata": {},
            "source": [
                "### Exercise 1\n",
                "\n",
                "Utilizaremos NumPy para obtener información para describir estadísticamente.\n",
                "\n",
                "- Generar un array de 100 elementos siguiendo una distribución normal.\n",
                "- Generar un array de 100 elementos siguiendo una distribución chi-cuadrado con 3 grados de libertad.\n",
                "- Calcular las principales métricas y medidas estadísticas que mejor describan los dos vectores."
            ]
        },
        {
            "cell_type": "code",
            "execution_count": 1,
            "id": "34720ab6",
            "metadata": {},
            "outputs": [
                {
                    "name": "stdout",
                    "output_type": "stream",
                    "text": [
                        "Métricas de la distribución normal:\n",
                        "Media: 0.07626528275225261\n",
                        "Mediana: 0.06438056065235215\n",
                        "Varianza: 1.0003425535924608\n",
                        "Desviación estándar: 1.0001712621308716\n",
                        "Máximo: 2.331418740451034\n",
                        "Mínimo: -2.8204014123682044\n",
                        "\n",
                        "Métricas de la distribución chi-cuadrado:\n",
                        "Media: 3.2585808330127937\n",
                        "Mediana: 2.5852931240376487\n",
                        "Varianza: 7.023837393299309\n",
                        "Desviación estándar: 2.6502523263454196\n",
                        "Máximo: 12.098622534576613\n",
                        "Mínimo: 0.059547739756085794\n"
                    ]
                }
            ],
            "source": [
                "import numpy as np\n",
                "\n",
                "# 1. Generar un array de 100 elementos siguiendo una distribución normal\n",
                "normal_array = np.random.normal(loc=0, scale=1, size=100)\n",
                "\n",
                "# 2. Generar un array de 100 elementos siguiendo una distribución chi-cuadrado con 3 grados de libertad\n",
                "chi_squared_array = np.random.chisquare(df=3, size=100)\n",
                "\n",
                "# 3. Calcular las métricas estadísticas para ambas distribuciones\n",
                "\n",
                "def calcular_metricas(arr):\n",
                "    media = np.mean(arr)\n",
                "    mediana = np.median(arr)\n",
                "    varianza = np.var(arr)\n",
                "    desviacion_estandar = np.std(arr)\n",
                "    maximo = np.max(arr)\n",
                "    minimo = np.min(arr)\n",
                "    \n",
                "    return {\n",
                "        'Media': media,\n",
                "        'Mediana': mediana,\n",
                "        'Varianza': varianza,\n",
                "        'Desviación estándar': desviacion_estandar,\n",
                "        'Máximo': maximo,\n",
                "        'Mínimo': minimo\n",
                "    }\n",
                "\n",
                "# Calcular métricas para la distribución normal\n",
                "metricas_normal = calcular_metricas(normal_array)\n",
                "print(\"Métricas de la distribución normal:\")\n",
                "for key, value in metricas_normal.items():\n",
                "    print(f\"{key}: {value}\")\n",
                "\n",
                "# Calcular métricas para la distribución chi-cuadrado\n",
                "metricas_chi2 = calcular_metricas(chi_squared_array)\n",
                "print(\"\\nMétricas de la distribución chi-cuadrado:\")\n",
                "for key, value in metricas_chi2.items():\n",
                "    print(f\"{key}: {value}\")\n"
            ]
        },
        {
            "cell_type": "markdown",
            "id": "46c70c3d",
            "metadata": {},
            "source": [
                "### Exercise 2\n",
                "\n",
                "Escriba un programa en Python para calcular la desviación estándar de los siguientes datos:\n",
                "\n",
                "```py\n",
                "data = [4, 2, 5, 8, 6]\n",
                "```"
            ]
        },
        {
            "cell_type": "code",
            "execution_count": 3,
            "id": "d590308e",
            "metadata": {},
            "outputs": [
                {
                    "name": "stdout",
                    "output_type": "stream",
                    "text": [
                        "La desviación estándar de los datos es: 2.0\n",
                        "la desviacion estandar es: 2.0\n"
                    ]
                }
            ],
            "source": [
                "import math\n",
                "data = [4, 2, 5, 8, 6]\n",
                "\n",
                "# 1. Calcular la media\n",
                "media = sum(data) / len(data)\n",
                "\n",
                "# 2. Calcular la suma de las diferencias al cuadrado\n",
                "diferencia_cuadrado = [(x - media) ** 2 for x in data]\n",
                "\n",
                "# 3. Calcular la varianza (media de las diferencias al cuadrado)\n",
                "variance = sum(diferencia_cuadrado) / len(data)\n",
                "\n",
                "# 4. Calcular la desviación estándar (raíz cuadrada de la varianza)\n",
                "std_deviation = math.sqrt(variance)\n",
                "\n",
                "# Mostrar el resultado\n",
                "print(f\"La desviación estándar de los datos es: {std_deviation}\")\n",
                "\n",
                "desviacion_estandar = np.std(data)\n",
                "print (f\"la desviacion estandar es: {desviacion_estandar}\")"
            ]
        }
    ],
    "metadata": {
        "kernelspec": {
            "display_name": "Python 3",
            "language": "python",
            "name": "python3"
        },
        "language_info": {
            "codemirror_mode": {
                "name": "ipython",
                "version": 3
            },
            "file_extension": ".py",
            "mimetype": "text/x-python",
            "name": "python",
            "nbconvert_exporter": "python",
            "pygments_lexer": "ipython3",
            "version": "3.11.4"
        }
    },
    "nbformat": 4,
    "nbformat_minor": 5
}
